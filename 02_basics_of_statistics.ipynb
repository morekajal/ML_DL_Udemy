{
 "cells": [
  {
   "cell_type": "markdown",
   "metadata": {},
   "source": [
    "Types of Data : \n",
    "1. Qualitative or Categorical (Variable cannot assume a Numerical Value but can be classified into two or more Non Numeric categories)\n",
    "    - i. Nominal (values are Not Ordered),   \n",
    "    - ii. Ordinal (values are Ordinal)\n",
    "\n",
    "2. Quantitative : The data can be measured Numerically        \n",
    "    - i. Discrete : Countable values with intermediate values,  \n",
    "    - ii. Continuous : which can assume any value over certain intervals"
   ]
  },
  {
   "cell_type": "markdown",
   "metadata": {},
   "source": [
    "Types of Statistics:\n",
    "\n",
    "1. Descriptive : Consists of methods for organizing, displaying, and describing data using tables, graphs, and summary measures.\n",
    "    i. Measures of Central Tendency : Mean, Median, Mode\n",
    "    ii. Measures of Dispersion : Range,  Standard Deviation\n",
    "    iii. Frequency Distributions\n",
    "    iv. Histograms\n",
    "\n",
    "2. Inferential : Consists of methods that use sample results to help make predictions or make inference from data\n",
    "    i. Linear Regression\n",
    "    ii. Logistic Regression\n",
    "    iii. Linear Discriminant Analysis & KNN\n",
    "    iv. Decision Tree\n",
    "    v. Chi Square Test\n",
    "    vi. Hypothesis testing\n",
    "    and Many more...\n"
   ]
  },
  {
   "cell_type": "markdown",
   "metadata": {},
   "source": [
    "Frequency Distribution of Qualitative data ; lists all Categories and Number of elements that belong to each of the categories.\n",
    "- Relative Freq of category = Freq of that category / Sum of all frequencies\n",
    "\n",
    "- Bar Graph : heights reperesents frequencies of respective categories\n",
    "\n",
    "- Normal Distribution : A continuous random variable has a distribution with a graph that is symmetric and bell-shaped.\n",
    "    - Properties : \n",
    "                 - Total area under the curve is 1\n",
    "                 - The curve is symmetric about the mean\n",
    "                 - The two tails of the curve extend indefinitely\n",
    "                 "
   ]
  },
  {
   "cell_type": "markdown",
   "metadata": {},
   "source": [
    "Measures of Center\n",
    "\n",
    "1. Mean : Average\n",
    "- Mean = Sum of All Values / No. of Values\n",
    "\n",
    "2. Median : The value of the middle term in a dataset that has been ranked in increasing order\n",
    "- If the dataset has even no. of samples -> median is average of those two middle values\n",
    "- For odd no. of samples -> median is the element exactly at the centre of incresing order dataset\n",
    "\n",
    "3. Mode : Value that occurs with the greatest frequency or maximum occurrence \n",
    "- Bimodal : If two values occurs with the same greatest frequency\n",
    "- Multimodal : More than two data values with the same greatest frequency\n",
    "\n",
    "4. Midrange : The value midway between the maximum and minimum values in original dataset"
   ]
  },
  {
   "cell_type": "markdown",
   "metadata": {},
   "source": [
    "Measures of Dispersion: The measures that helps us learn about the spread of a data \n",
    "\n",
    "1. Range : largest value - smallest value\n",
    "- for Outliers -> range should be avoided as it is influenced by outliers\n",
    "\n",
    "2. Variance : Avg of Squared differences from the mean\n",
    "\n",
    "3. Standard Deviation : Square root of variance\n",
    "- larger sigma value means data is more widely spread\n",
    "\n"
   ]
  },
  {
   "cell_type": "code",
   "execution_count": null,
   "metadata": {},
   "outputs": [],
   "source": []
  }
 ],
 "metadata": {
  "language_info": {
   "name": "python"
  }
 },
 "nbformat": 4,
 "nbformat_minor": 2
}
