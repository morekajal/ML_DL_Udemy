{
 "cells": [
  {
   "cell_type": "markdown",
   "metadata": {},
   "source": [
    "Types of Estimates : f(x) defines relationship between dependent and independent variables\n",
    "\n",
    "1. Prediction : When the values of input variable are available and output variable is to be predicted, we are only interested in value of y Not in the relationship of y with other variables\n",
    "\n",
    "2. Inference : When the relationship between input and output is important, we want to establish how output variable varies with change in each predictor variable."
   ]
  },
  {
   "cell_type": "markdown",
   "metadata": {},
   "source": [
    "Choice of Models for Analysis based on the type of Estimate:\n",
    "- For Prediction : Accuracy of predicted function is more important\n",
    "eg : Linear regression is simple to interpret but may not give very accurate predicted values of Y.\n",
    "- For inference : Interpretability of predicted function is important\n",
    "eg : Non-linear models may be predicting very accurately but relationship may be very difficult to interpret."
   ]
  },
  {
   "cell_type": "markdown",
   "metadata": {},
   "source": [
    "Classification of Models :\n",
    "\n",
    "1. Based on Parametric Approach : we assume functional form of relationship between predictor and predicted variable , like assuming linear relationship between house price with other variables\n",
    "Price (Y) = a0 + a1 * x1 + a2* x2 + a3 * x3 + ...... + an * xn\n",
    "\n",
    "2. Based on Non Parametric Approach : We do not assign any fucnctional form for the relationship. Instead it is estimated by model while training."
   ]
  },
  {
   "cell_type": "markdown",
   "metadata": {},
   "source": [
    "Type of Learning Methods :\n",
    "\n",
    "1. Supervised Learning : Here we have input variables(x), output variables (y) or labelled output (y) and we use algorithm to learn mapping functions from input to output\n",
    "- Classification problem\n",
    "- Regression problem\n",
    "- Different Algorithms : linear / logistic regression, ANN, Naive bayes, SVM, Random forest, KNN, ensemble, etc.\n",
    "\n",
    "2. Unsupervised Learning : Here we have only the input data (x), and No cpdg output variables.\n",
    "- Different Algorithms : Clustering (K-means, Hierarchical), HMM (Hidden Markow Model), Dimension Reduction (PCA, Factor analysis), Feature Extraction, Self-organizing maps (Neural Nets)"
   ]
  },
  {
   "cell_type": "markdown",
   "metadata": {},
   "source": [
    "Steps in Building ML Model:\n",
    "1. Problem Formulation\n",
    "2. Data Tidying\n",
    "3. Pre-processing\n",
    "4. Train-Test split\n",
    "5. Model Building\n",
    "6. Validation and Model Accuracy\n",
    "7. Prediction"
   ]
  },
  {
   "cell_type": "code",
   "execution_count": null,
   "metadata": {},
   "outputs": [],
   "source": []
  }
 ],
 "metadata": {
  "language_info": {
   "name": "python"
  }
 },
 "nbformat": 4,
 "nbformat_minor": 2
}
